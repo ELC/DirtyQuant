{
 "cells": [
  {
   "cell_type": "code",
   "execution_count": 44,
   "metadata": {},
   "outputs": [],
   "source": [
    "from math import gamma, sqrt, pi\n",
    "from scipy.stats import t\n",
    "import numpy as np"
   ]
  },
  {
   "cell_type": "code",
   "execution_count": 14,
   "metadata": {},
   "outputs": [],
   "source": [
    "import scipy"
   ]
  },
  {
   "cell_type": "code",
   "execution_count": 32,
   "metadata": {},
   "outputs": [],
   "source": [
    "def sktinv(u,nu,_lambda):\n",
    "    '''\n",
    "    % sktinv(u,nu,lambda)\n",
    "    % u      = Cdf value (Between 0 and 1)\n",
    "    % nu     = Kurtosis Parameter (>2 to inf)\n",
    "    % lambda = Assymetry Parameter (-1 to 1)\n",
    "    %\n",
    "    % Calculates the CDF for the inverse skewed Student-t. Hansen (1994) version.\n",
    "    % Author: Christian Contino\n",
    "    % Date:   2 May 2021\n",
    "    '''\n",
    "    \n",
    "    \n",
    "    c = gamma((nu+1)/2)/(sqrt(pi*(nu-2))*gamma(nu/2))\n",
    "    a = 4*_lambda*c*((nu-2)/(nu-1))\n",
    "    b = sqrt(1 + 3 * _lambda**2 - a**2)\n",
    "    \n",
    "    inv1 = (1-_lambda)/b * sqrt((nu-2) / nu) * t.ppf(u / (1-_lambda), nu) - a/b\n",
    "    inv2 = (1+_lambda)/b * sqrt((nu-2) / nu) * t.ppf(0.5+ 1 / (1+_lambda) * (u - (1-_lambda)) / 2, nu) - a/b\n",
    "    \n",
    "    if u < (1-_lambda)/2\n",
    "        use inv1 on u\n",
    "    else\n",
    "        use inv2 on u\n",
    "\n",
    "    \n",
    "    return z"
   ]
  },
  {
   "cell_type": "code",
   "execution_count": 4,
   "metadata": {},
   "outputs": [],
   "source": [
    "find(u<((1-lambda)/2));\n",
    "\n"
   ]
  },
  {
   "cell_type": "code",
   "execution_count": 40,
   "metadata": {},
   "outputs": [],
   "source": [
    "_lambda = 0.5\n",
    "nu  =6\n",
    "u = 0.24"
   ]
  },
  {
   "cell_type": "code",
   "execution_count": 37,
   "metadata": {},
   "outputs": [
    {
     "data": {
      "text/plain": [
       "0.25"
      ]
     },
     "execution_count": 37,
     "metadata": {},
     "output_type": "execute_result"
    }
   ],
   "source": [
    "(1-_lambda)/2"
   ]
  },
  {
   "cell_type": "code",
   "execution_count": 43,
   "metadata": {},
   "outputs": [],
   "source": [
    "c = gamma((nu+1)/2)/(sqrt(pi*(nu-2))*gamma(nu/2))\n",
    "a = 4*_lambda*c*((nu-2) /(nu-1))\n",
    "b = sqrt(1 + 3 * _lambda**2 - a**2)\n",
    "inv1 = (1-_lambda)/b * sqrt((nu-2) / nu) * t.ppf(u / (1-_lambda), nu) - a/b\n",
    "inv2 = (1+_lambda)/b * sqrt((nu-2) / nu) * t.ppf(0.5+ 1 / (1+_lambda) * (u - (1-_lambda)) / 2, nu) - a/b\n",
    "#(1+lambda(f2))./b(f2).*sqrt((nu(f2)-2)./nu(f2)).*tinv(0.5+1./(1+lambda(f2)).*(u(f2)-(1-lambda(f2))./2),nu(f2))-a(f2)./b(f2)\n",
    "\n",
    "np.where(u < (1-_lambda)/2  )"
   ]
  },
  {
   "cell_type": "markdown",
   "metadata": {},
   "source": [
    "function z=sktinv(u,nu,lambda)\n",
    "% z=sktinv(u,nu,lambda)\n",
    "%\n",
    "% Calculates the CDF for the inverse skewed Student-t. Hansen (1994) version.\n",
    "% Author: Christian Contino\n",
    "% Date:   11 August 2014\n",
    "\n",
    "% u      = Cdf value (Between 0 and 1)\n",
    "% nu     = Kurtosis Parameter (>2 to inf)\n",
    "% lambda = Assymetry Parameter (-1 to 1)\n",
    "\n",
    "% tinv(repmat([0.1, 0.05, 0.01],10, 1), repmat([11:-1:2]', 1,3))\n",
    "\n",
    "z = zeros(length(nu) ,1);\n",
    "\n",
    "c = gamma((nu+1)/2)./(sqrt(pi*(nu-2)).*gamma(nu/2));\n",
    "a = 4*lambda.*c.*((nu-2)./(nu-1));\n",
    "b = sqrt(1 + 3*lambda.^2 - a.^2);\n",
    "\n",
    "f1 = find(u<((1-lambda)/2));\n",
    "f2 = find(u>=((1-lambda)/2));\n",
    "\n",
    "inv1 = (1-lambda(f1))./b(f1).*sqrt((nu(f1)-2)./nu(f1)).*tinv(u(f1)./(1-lambda(f1)),nu(f1))-a(f1)./b(f1);\n",
    "inv2 = (1+lambda(f2))./b(f2).*sqrt((nu(f2)-2)./nu(f2)).*tinv(0.5+1./(1+lambda(f2)).*(u(f2)-(1-lambda(f2))./2),nu(f2))-a(f2)./b(f2);\n",
    "\n",
    "z(f1) = (inv1);\n",
    "z(f2) = (inv2);\n",
    "end\n"
   ]
  },
  {
   "cell_type": "code",
   "execution_count": null,
   "metadata": {},
   "outputs": [],
   "source": []
  },
  {
   "cell_type": "code",
   "execution_count": null,
   "metadata": {},
   "outputs": [],
   "source": []
  },
  {
   "cell_type": "code",
   "execution_count": null,
   "metadata": {},
   "outputs": [],
   "source": []
  }
 ],
 "metadata": {
  "kernelspec": {
   "display_name": "Python 3",
   "language": "python",
   "name": "python3"
  },
  "language_info": {
   "codemirror_mode": {
    "name": "ipython",
    "version": 3
   },
   "file_extension": ".py",
   "mimetype": "text/x-python",
   "name": "python",
   "nbconvert_exporter": "python",
   "pygments_lexer": "ipython3",
   "version": "3.8.5"
  }
 },
 "nbformat": 4,
 "nbformat_minor": 4
}
